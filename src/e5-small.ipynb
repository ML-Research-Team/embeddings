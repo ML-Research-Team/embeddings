{
 "cells": [
  {
   "cell_type": "code",
   "execution_count": null,
   "metadata": {},
   "outputs": [],
   "source": [
    "!pip install 'transformers[torch]'\n",
    "!pip install numpy\n",
    "!pip install sklearn"
   ]
  },
  {
   "cell_type": "code",
   "execution_count": null,
   "metadata": {},
   "outputs": [],
   "source": [
    "from utils import EmbeddingModel\n",
    "model = EmbeddingModel(\"intfloat/e5-small\")"
   ]
  },
  {
   "cell_type": "code",
   "execution_count": null,
   "metadata": {},
   "outputs": [],
   "source": [
    "text1 = \"green\"\n",
    "text2 = \"red\"\n",
    "print(f'text: {model.similarity(text1, text2)}')\n",
    "\n",
    "v1 = [15,5,10 ]\n",
    "v2 = [11,10,57]\n",
    "print(f'vector: {model.similarity_by_vector(v1, v2)}')"
   ]
  }
 ],
 "metadata": {
  "language_info": {
   "name": "python"
  }
 },
 "nbformat": 4,
 "nbformat_minor": 2
}
